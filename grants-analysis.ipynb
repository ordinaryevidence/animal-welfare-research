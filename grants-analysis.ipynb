{
 "cells": [
  {
   "cell_type": "code",
   "execution_count": 25,
   "metadata": {},
   "outputs": [],
   "source": [
    "import anthropic\n",
    "import json\n",
    "import pandas as pd\n",
    "import textwrap\n",
    "import os\n",
    "from dotenv import load_dotenv\n",
    "\n",
    "pd.set_option('display.float_format', lambda x: '%.3f' % x)\n",
    "idx = pd.IndexSlice\n",
    "\n",
    "load_dotenv()\n",
    "\n",
    "client = anthropic.Anthropic(\n",
    "    api_key=os.environ.get(\"ANTHROPIC_API_KEY\"),\n",
    ")"
   ]
  },
  {
   "cell_type": "code",
   "execution_count": 2,
   "metadata": {},
   "outputs": [],
   "source": [
    "ANIMALS = ['Cattle', 'Chickens', 'Ducks', 'Goats', 'Pigs',\n",
    "           'Sheep', 'Carp', 'Other Fish', 'Salmon', 'Shrimp', 'Unknown']"
   ]
  },
  {
   "cell_type": "code",
   "execution_count": 3,
   "metadata": {},
   "outputs": [
    {
     "data": {
      "text/html": [
       "<div>\n",
       "<style scoped>\n",
       "    .dataframe tbody tr th:only-of-type {\n",
       "        vertical-align: middle;\n",
       "    }\n",
       "\n",
       "    .dataframe tbody tr th {\n",
       "        vertical-align: top;\n",
       "    }\n",
       "\n",
       "    .dataframe thead th {\n",
       "        text-align: right;\n",
       "    }\n",
       "</style>\n",
       "<table border=\"1\" class=\"dataframe\">\n",
       "  <thead>\n",
       "    <tr style=\"text-align: right;\">\n",
       "      <th></th>\n",
       "      <th>Year</th>\n",
       "      <th>Organization</th>\n",
       "      <th>Recipient</th>\n",
       "      <th>Amount</th>\n",
       "      <th>Description</th>\n",
       "    </tr>\n",
       "  </thead>\n",
       "  <tbody>\n",
       "    <tr>\n",
       "      <th>0</th>\n",
       "      <td>2024</td>\n",
       "      <td>Open Philanthropy</td>\n",
       "      <td>Rethink Priorities</td>\n",
       "      <td>3253550.0</td>\n",
       "      <td>Rethink Priorities — Farm Animal Welfare Resea...</td>\n",
       "    </tr>\n",
       "    <tr>\n",
       "      <th>1</th>\n",
       "      <td>2024</td>\n",
       "      <td>Open Philanthropy</td>\n",
       "      <td>Plant Based Foods Association</td>\n",
       "      <td>2500000.0</td>\n",
       "      <td>Plant Based Foods Association — Advocacy and C...</td>\n",
       "    </tr>\n",
       "    <tr>\n",
       "      <th>2</th>\n",
       "      <td>2024</td>\n",
       "      <td>Open Philanthropy</td>\n",
       "      <td>European Institute for Animal Law and Policy</td>\n",
       "      <td>1819991.0</td>\n",
       "      <td>European Institute for Animal Law &amp; Policy — E...</td>\n",
       "    </tr>\n",
       "    <tr>\n",
       "      <th>3</th>\n",
       "      <td>2024</td>\n",
       "      <td>Open Philanthropy</td>\n",
       "      <td>Compassion in World Farming</td>\n",
       "      <td>1504198.0</td>\n",
       "      <td>Compassion in World Farming — Farmed Fish Welf...</td>\n",
       "    </tr>\n",
       "    <tr>\n",
       "      <th>4</th>\n",
       "      <td>2024</td>\n",
       "      <td>Open Philanthropy</td>\n",
       "      <td>Focus Philanthropy</td>\n",
       "      <td>880000.0</td>\n",
       "      <td>Focus Philanthropy — Farm Animal Welfare Fundr...</td>\n",
       "    </tr>\n",
       "  </tbody>\n",
       "</table>\n",
       "</div>"
      ],
      "text/plain": [
       "   Year       Organization                                     Recipient  \\\n",
       "0  2024  Open Philanthropy                            Rethink Priorities   \n",
       "1  2024  Open Philanthropy                 Plant Based Foods Association   \n",
       "2  2024  Open Philanthropy  European Institute for Animal Law and Policy   \n",
       "3  2024  Open Philanthropy                   Compassion in World Farming   \n",
       "4  2024  Open Philanthropy                            Focus Philanthropy   \n",
       "\n",
       "      Amount                                        Description  \n",
       "0  3253550.0  Rethink Priorities — Farm Animal Welfare Resea...  \n",
       "1  2500000.0  Plant Based Foods Association — Advocacy and C...  \n",
       "2  1819991.0  European Institute for Animal Law & Policy — E...  \n",
       "3  1504198.0  Compassion in World Farming — Farmed Fish Welf...  \n",
       "4   880000.0  Focus Philanthropy — Farm Animal Welfare Fundr...  "
      ]
     },
     "execution_count": 3,
     "metadata": {},
     "output_type": "execute_result"
    }
   ],
   "source": [
    "df = pd.read_csv('data/Animal Welfare Grants - All.csv')\n",
    "df[\"Amount\"] = df[\"Amount\"].replace(\"[$,]\", \"\", regex=True).astype(float)\n",
    "df.head()"
   ]
  },
  {
   "cell_type": "code",
   "execution_count": 4,
   "metadata": {},
   "outputs": [],
   "source": [
    "def classify(row):\n",
    "    prompt = str(textwrap.dedent(\"\"\"You will classify a grant in two steps: first, you will classify the grant according to the type of animal it benefits, and then you will classify the grant according to the country it targets.\n",
    "\n",
    "    Some grants benefit multiple animals or countries. In these cases, you should select the most relevant animal or country.\n",
    "\n",
    "    Not all grants explicitly state animals or countries, so you may need to infer this information from the grant description, organization name, or other context.\n",
    "\n",
    "    Leave the animal or country unclassified using the keyword \"Unknown\" if you are at all unsure of the classification.\n",
    "\n",
    "    The animals you can choose from are: {{animals}}\n",
    "\n",
    "    Respond with the animal and country in json format only, like this: {\"Animal\": \"Cattle\", \"Country\": \"United States\"}\n",
    "                                 \n",
    "    Here is the grant information: {{recipient}}: {{description}}\n",
    "    \"\"\")).replace('{{animals}}', ', '.join(ANIMALS)).replace('{{recipient}}', str(row['Recipient'])).replace('{{description}}', str(row['Description']))\n",
    "    try:\n",
    "        response = client.messages.create(\n",
    "            messages=[{\"role\": \"user\", \"content\": prompt}],\n",
    "            max_tokens=256,\n",
    "            temperature=0.0,\n",
    "            model=\"claude-3-haiku-20240307\")\n",
    "        result = response.content[0].text.strip()\n",
    "        return pd.Series(json.loads(result))\n",
    "    except:\n",
    "        print(row, result)\n",
    "        return pd.Series({'Animal': 'Unknown', 'Country': 'Unknown'})"
   ]
  },
  {
   "cell_type": "code",
   "execution_count": 7,
   "metadata": {},
   "outputs": [
    {
     "name": "stdout",
     "output_type": "stream",
     "text": [
      "Year                                                         2024\n",
      "Organization                                    Open Philanthropy\n",
      "Recipient                                         Produtor do Bem\n",
      "Amount                                                $300,000.00\n",
      "Description     Produtor do Bem Certifição – Farm Animal Welfa...\n",
      "Name: 15, dtype: object\n"
     ]
    }
   ],
   "source": [
    "row = df.iloc[15]\n",
    "print(row)\n",
    "result = classify(row)"
   ]
  },
  {
   "cell_type": "code",
   "execution_count": 157,
   "metadata": {},
   "outputs": [
    {
     "data": {
      "text/plain": [
       "Animal     Cattle\n",
       "Country    Brazil\n",
       "dtype: object"
      ]
     },
     "execution_count": 157,
     "metadata": {},
     "output_type": "execute_result"
    }
   ],
   "source": [
    "result"
   ]
  },
  {
   "cell_type": "code",
   "execution_count": 158,
   "metadata": {},
   "outputs": [],
   "source": [
    "df_test = df.iloc[:10]"
   ]
  },
  {
   "cell_type": "code",
   "execution_count": 5,
   "metadata": {},
   "outputs": [
    {
     "ename": "UnboundLocalError",
     "evalue": "cannot access local variable 'result' where it is not associated with a value",
     "output_type": "error",
     "traceback": [
      "\u001b[0;31m---------------------------------------------------------------------------\u001b[0m",
      "\u001b[0;31mHTTPStatusError\u001b[0m                           Traceback (most recent call last)",
      "File \u001b[0;32m~/ordinaryevidence/animal-welfare-research/animal-welfare-research/env/lib/python3.11/site-packages/anthropic/_base_client.py:998\u001b[0m, in \u001b[0;36mSyncAPIClient._request\u001b[0;34m(self, cast_to, options, remaining_retries, stream, stream_cls)\u001b[0m\n\u001b[1;32m    997\u001b[0m \u001b[38;5;28;01mtry\u001b[39;00m:\n\u001b[0;32m--> 998\u001b[0m     \u001b[43mresponse\u001b[49m\u001b[38;5;241;43m.\u001b[39;49m\u001b[43mraise_for_status\u001b[49m\u001b[43m(\u001b[49m\u001b[43m)\u001b[49m\n\u001b[1;32m    999\u001b[0m \u001b[38;5;28;01mexcept\u001b[39;00m httpx\u001b[38;5;241m.\u001b[39mHTTPStatusError \u001b[38;5;28;01mas\u001b[39;00m err:  \u001b[38;5;66;03m# thrown on 4xx and 5xx status code\u001b[39;00m\n",
      "File \u001b[0;32m~/ordinaryevidence/animal-welfare-research/animal-welfare-research/env/lib/python3.11/site-packages/httpx/_models.py:761\u001b[0m, in \u001b[0;36mResponse.raise_for_status\u001b[0;34m(self)\u001b[0m\n\u001b[1;32m    760\u001b[0m message \u001b[38;5;241m=\u001b[39m message\u001b[38;5;241m.\u001b[39mformat(\u001b[38;5;28mself\u001b[39m, error_type\u001b[38;5;241m=\u001b[39merror_type)\n\u001b[0;32m--> 761\u001b[0m \u001b[38;5;28;01mraise\u001b[39;00m HTTPStatusError(message, request\u001b[38;5;241m=\u001b[39mrequest, response\u001b[38;5;241m=\u001b[39m\u001b[38;5;28mself\u001b[39m)\n",
      "\u001b[0;31mHTTPStatusError\u001b[0m: Client error '429 Too Many Requests' for url 'https://api.anthropic.com/v1/messages'\nFor more information check: https://developer.mozilla.org/en-US/docs/Web/HTTP/Status/429",
      "\nDuring handling of the above exception, another exception occurred:\n",
      "\u001b[0;31mKeyboardInterrupt\u001b[0m                         Traceback (most recent call last)",
      "Cell \u001b[0;32mIn[4], line 17\u001b[0m, in \u001b[0;36mclassify\u001b[0;34m(row)\u001b[0m\n\u001b[1;32m     16\u001b[0m \u001b[38;5;28;01mtry\u001b[39;00m:\n\u001b[0;32m---> 17\u001b[0m     response \u001b[38;5;241m=\u001b[39m \u001b[43mclient\u001b[49m\u001b[38;5;241;43m.\u001b[39;49m\u001b[43mmessages\u001b[49m\u001b[38;5;241;43m.\u001b[39;49m\u001b[43mcreate\u001b[49m\u001b[43m(\u001b[49m\n\u001b[1;32m     18\u001b[0m \u001b[43m        \u001b[49m\u001b[43mmessages\u001b[49m\u001b[38;5;241;43m=\u001b[39;49m\u001b[43m[\u001b[49m\u001b[43m{\u001b[49m\u001b[38;5;124;43m\"\u001b[39;49m\u001b[38;5;124;43mrole\u001b[39;49m\u001b[38;5;124;43m\"\u001b[39;49m\u001b[43m:\u001b[49m\u001b[43m \u001b[49m\u001b[38;5;124;43m\"\u001b[39;49m\u001b[38;5;124;43muser\u001b[39;49m\u001b[38;5;124;43m\"\u001b[39;49m\u001b[43m,\u001b[49m\u001b[43m \u001b[49m\u001b[38;5;124;43m\"\u001b[39;49m\u001b[38;5;124;43mcontent\u001b[39;49m\u001b[38;5;124;43m\"\u001b[39;49m\u001b[43m:\u001b[49m\u001b[43m \u001b[49m\u001b[43mprompt\u001b[49m\u001b[43m}\u001b[49m\u001b[43m]\u001b[49m\u001b[43m,\u001b[49m\n\u001b[1;32m     19\u001b[0m \u001b[43m        \u001b[49m\u001b[43mmax_tokens\u001b[49m\u001b[38;5;241;43m=\u001b[39;49m\u001b[38;5;241;43m256\u001b[39;49m\u001b[43m,\u001b[49m\n\u001b[1;32m     20\u001b[0m \u001b[43m        \u001b[49m\u001b[43mtemperature\u001b[49m\u001b[38;5;241;43m=\u001b[39;49m\u001b[38;5;241;43m0.0\u001b[39;49m\u001b[43m,\u001b[49m\n\u001b[1;32m     21\u001b[0m \u001b[43m        \u001b[49m\u001b[43mmodel\u001b[49m\u001b[38;5;241;43m=\u001b[39;49m\u001b[38;5;124;43m\"\u001b[39;49m\u001b[38;5;124;43mclaude-3-haiku-20240307\u001b[39;49m\u001b[38;5;124;43m\"\u001b[39;49m\u001b[43m)\u001b[49m\n\u001b[1;32m     22\u001b[0m     result \u001b[38;5;241m=\u001b[39m response\u001b[38;5;241m.\u001b[39mcontent[\u001b[38;5;241m0\u001b[39m]\u001b[38;5;241m.\u001b[39mtext\u001b[38;5;241m.\u001b[39mstrip()\n",
      "File \u001b[0;32m~/ordinaryevidence/animal-welfare-research/animal-welfare-research/env/lib/python3.11/site-packages/anthropic/_utils/_utils.py:277\u001b[0m, in \u001b[0;36mrequired_args.<locals>.inner.<locals>.wrapper\u001b[0;34m(*args, **kwargs)\u001b[0m\n\u001b[1;32m    276\u001b[0m     \u001b[38;5;28;01mraise\u001b[39;00m \u001b[38;5;167;01mTypeError\u001b[39;00m(msg)\n\u001b[0;32m--> 277\u001b[0m \u001b[38;5;28;01mreturn\u001b[39;00m \u001b[43mfunc\u001b[49m\u001b[43m(\u001b[49m\u001b[38;5;241;43m*\u001b[39;49m\u001b[43margs\u001b[49m\u001b[43m,\u001b[49m\u001b[43m \u001b[49m\u001b[38;5;241;43m*\u001b[39;49m\u001b[38;5;241;43m*\u001b[39;49m\u001b[43mkwargs\u001b[49m\u001b[43m)\u001b[49m\n",
      "File \u001b[0;32m~/ordinaryevidence/animal-welfare-research/animal-welfare-research/env/lib/python3.11/site-packages/anthropic/resources/messages.py:899\u001b[0m, in \u001b[0;36mMessages.create\u001b[0;34m(self, max_tokens, messages, model, metadata, stop_sequences, stream, system, temperature, tool_choice, tools, top_k, top_p, extra_headers, extra_query, extra_body, timeout)\u001b[0m\n\u001b[1;32m    866\u001b[0m \u001b[38;5;129m@required_args\u001b[39m([\u001b[38;5;124m\"\u001b[39m\u001b[38;5;124mmax_tokens\u001b[39m\u001b[38;5;124m\"\u001b[39m, \u001b[38;5;124m\"\u001b[39m\u001b[38;5;124mmessages\u001b[39m\u001b[38;5;124m\"\u001b[39m, \u001b[38;5;124m\"\u001b[39m\u001b[38;5;124mmodel\u001b[39m\u001b[38;5;124m\"\u001b[39m], [\u001b[38;5;124m\"\u001b[39m\u001b[38;5;124mmax_tokens\u001b[39m\u001b[38;5;124m\"\u001b[39m, \u001b[38;5;124m\"\u001b[39m\u001b[38;5;124mmessages\u001b[39m\u001b[38;5;124m\"\u001b[39m, \u001b[38;5;124m\"\u001b[39m\u001b[38;5;124mmodel\u001b[39m\u001b[38;5;124m\"\u001b[39m, \u001b[38;5;124m\"\u001b[39m\u001b[38;5;124mstream\u001b[39m\u001b[38;5;124m\"\u001b[39m])\n\u001b[1;32m    867\u001b[0m \u001b[38;5;28;01mdef\u001b[39;00m \u001b[38;5;21mcreate\u001b[39m(\n\u001b[1;32m    868\u001b[0m     \u001b[38;5;28mself\u001b[39m,\n\u001b[0;32m   (...)\u001b[0m\n\u001b[1;32m    897\u001b[0m     timeout: \u001b[38;5;28mfloat\u001b[39m \u001b[38;5;241m|\u001b[39m httpx\u001b[38;5;241m.\u001b[39mTimeout \u001b[38;5;241m|\u001b[39m \u001b[38;5;28;01mNone\u001b[39;00m \u001b[38;5;241m|\u001b[39m NotGiven \u001b[38;5;241m=\u001b[39m \u001b[38;5;241m600\u001b[39m,\n\u001b[1;32m    898\u001b[0m ) \u001b[38;5;241m-\u001b[39m\u001b[38;5;241m>\u001b[39m Message \u001b[38;5;241m|\u001b[39m Stream[RawMessageStreamEvent]:\n\u001b[0;32m--> 899\u001b[0m     \u001b[38;5;28;01mreturn\u001b[39;00m \u001b[38;5;28;43mself\u001b[39;49m\u001b[38;5;241;43m.\u001b[39;49m\u001b[43m_post\u001b[49m\u001b[43m(\u001b[49m\n\u001b[1;32m    900\u001b[0m \u001b[43m        \u001b[49m\u001b[38;5;124;43m\"\u001b[39;49m\u001b[38;5;124;43m/v1/messages\u001b[39;49m\u001b[38;5;124;43m\"\u001b[39;49m\u001b[43m,\u001b[49m\n\u001b[1;32m    901\u001b[0m \u001b[43m        \u001b[49m\u001b[43mbody\u001b[49m\u001b[38;5;241;43m=\u001b[39;49m\u001b[43mmaybe_transform\u001b[49m\u001b[43m(\u001b[49m\n\u001b[1;32m    902\u001b[0m \u001b[43m            \u001b[49m\u001b[43m{\u001b[49m\n\u001b[1;32m    903\u001b[0m \u001b[43m                \u001b[49m\u001b[38;5;124;43m\"\u001b[39;49m\u001b[38;5;124;43mmax_tokens\u001b[39;49m\u001b[38;5;124;43m\"\u001b[39;49m\u001b[43m:\u001b[49m\u001b[43m \u001b[49m\u001b[43mmax_tokens\u001b[49m\u001b[43m,\u001b[49m\n\u001b[1;32m    904\u001b[0m \u001b[43m                \u001b[49m\u001b[38;5;124;43m\"\u001b[39;49m\u001b[38;5;124;43mmessages\u001b[39;49m\u001b[38;5;124;43m\"\u001b[39;49m\u001b[43m:\u001b[49m\u001b[43m \u001b[49m\u001b[43mmessages\u001b[49m\u001b[43m,\u001b[49m\n\u001b[1;32m    905\u001b[0m \u001b[43m                \u001b[49m\u001b[38;5;124;43m\"\u001b[39;49m\u001b[38;5;124;43mmodel\u001b[39;49m\u001b[38;5;124;43m\"\u001b[39;49m\u001b[43m:\u001b[49m\u001b[43m \u001b[49m\u001b[43mmodel\u001b[49m\u001b[43m,\u001b[49m\n\u001b[1;32m    906\u001b[0m \u001b[43m                \u001b[49m\u001b[38;5;124;43m\"\u001b[39;49m\u001b[38;5;124;43mmetadata\u001b[39;49m\u001b[38;5;124;43m\"\u001b[39;49m\u001b[43m:\u001b[49m\u001b[43m \u001b[49m\u001b[43mmetadata\u001b[49m\u001b[43m,\u001b[49m\n\u001b[1;32m    907\u001b[0m \u001b[43m                \u001b[49m\u001b[38;5;124;43m\"\u001b[39;49m\u001b[38;5;124;43mstop_sequences\u001b[39;49m\u001b[38;5;124;43m\"\u001b[39;49m\u001b[43m:\u001b[49m\u001b[43m \u001b[49m\u001b[43mstop_sequences\u001b[49m\u001b[43m,\u001b[49m\n\u001b[1;32m    908\u001b[0m \u001b[43m                \u001b[49m\u001b[38;5;124;43m\"\u001b[39;49m\u001b[38;5;124;43mstream\u001b[39;49m\u001b[38;5;124;43m\"\u001b[39;49m\u001b[43m:\u001b[49m\u001b[43m \u001b[49m\u001b[43mstream\u001b[49m\u001b[43m,\u001b[49m\n\u001b[1;32m    909\u001b[0m \u001b[43m                \u001b[49m\u001b[38;5;124;43m\"\u001b[39;49m\u001b[38;5;124;43msystem\u001b[39;49m\u001b[38;5;124;43m\"\u001b[39;49m\u001b[43m:\u001b[49m\u001b[43m \u001b[49m\u001b[43msystem\u001b[49m\u001b[43m,\u001b[49m\n\u001b[1;32m    910\u001b[0m \u001b[43m                \u001b[49m\u001b[38;5;124;43m\"\u001b[39;49m\u001b[38;5;124;43mtemperature\u001b[39;49m\u001b[38;5;124;43m\"\u001b[39;49m\u001b[43m:\u001b[49m\u001b[43m \u001b[49m\u001b[43mtemperature\u001b[49m\u001b[43m,\u001b[49m\n\u001b[1;32m    911\u001b[0m \u001b[43m                \u001b[49m\u001b[38;5;124;43m\"\u001b[39;49m\u001b[38;5;124;43mtool_choice\u001b[39;49m\u001b[38;5;124;43m\"\u001b[39;49m\u001b[43m:\u001b[49m\u001b[43m \u001b[49m\u001b[43mtool_choice\u001b[49m\u001b[43m,\u001b[49m\n\u001b[1;32m    912\u001b[0m \u001b[43m                \u001b[49m\u001b[38;5;124;43m\"\u001b[39;49m\u001b[38;5;124;43mtools\u001b[39;49m\u001b[38;5;124;43m\"\u001b[39;49m\u001b[43m:\u001b[49m\u001b[43m \u001b[49m\u001b[43mtools\u001b[49m\u001b[43m,\u001b[49m\n\u001b[1;32m    913\u001b[0m \u001b[43m                \u001b[49m\u001b[38;5;124;43m\"\u001b[39;49m\u001b[38;5;124;43mtop_k\u001b[39;49m\u001b[38;5;124;43m\"\u001b[39;49m\u001b[43m:\u001b[49m\u001b[43m \u001b[49m\u001b[43mtop_k\u001b[49m\u001b[43m,\u001b[49m\n\u001b[1;32m    914\u001b[0m \u001b[43m                \u001b[49m\u001b[38;5;124;43m\"\u001b[39;49m\u001b[38;5;124;43mtop_p\u001b[39;49m\u001b[38;5;124;43m\"\u001b[39;49m\u001b[43m:\u001b[49m\u001b[43m \u001b[49m\u001b[43mtop_p\u001b[49m\u001b[43m,\u001b[49m\n\u001b[1;32m    915\u001b[0m \u001b[43m            \u001b[49m\u001b[43m}\u001b[49m\u001b[43m,\u001b[49m\n\u001b[1;32m    916\u001b[0m \u001b[43m            \u001b[49m\u001b[43mmessage_create_params\u001b[49m\u001b[38;5;241;43m.\u001b[39;49m\u001b[43mMessageCreateParams\u001b[49m\u001b[43m,\u001b[49m\n\u001b[1;32m    917\u001b[0m \u001b[43m        \u001b[49m\u001b[43m)\u001b[49m\u001b[43m,\u001b[49m\n\u001b[1;32m    918\u001b[0m \u001b[43m        \u001b[49m\u001b[43moptions\u001b[49m\u001b[38;5;241;43m=\u001b[39;49m\u001b[43mmake_request_options\u001b[49m\u001b[43m(\u001b[49m\n\u001b[1;32m    919\u001b[0m \u001b[43m            \u001b[49m\u001b[43mextra_headers\u001b[49m\u001b[38;5;241;43m=\u001b[39;49m\u001b[43mextra_headers\u001b[49m\u001b[43m,\u001b[49m\u001b[43m \u001b[49m\u001b[43mextra_query\u001b[49m\u001b[38;5;241;43m=\u001b[39;49m\u001b[43mextra_query\u001b[49m\u001b[43m,\u001b[49m\u001b[43m \u001b[49m\u001b[43mextra_body\u001b[49m\u001b[38;5;241;43m=\u001b[39;49m\u001b[43mextra_body\u001b[49m\u001b[43m,\u001b[49m\u001b[43m \u001b[49m\u001b[43mtimeout\u001b[49m\u001b[38;5;241;43m=\u001b[39;49m\u001b[43mtimeout\u001b[49m\n\u001b[1;32m    920\u001b[0m \u001b[43m        \u001b[49m\u001b[43m)\u001b[49m\u001b[43m,\u001b[49m\n\u001b[1;32m    921\u001b[0m \u001b[43m        \u001b[49m\u001b[43mcast_to\u001b[49m\u001b[38;5;241;43m=\u001b[39;49m\u001b[43mMessage\u001b[49m\u001b[43m,\u001b[49m\n\u001b[1;32m    922\u001b[0m \u001b[43m        \u001b[49m\u001b[43mstream\u001b[49m\u001b[38;5;241;43m=\u001b[39;49m\u001b[43mstream\u001b[49m\u001b[43m \u001b[49m\u001b[38;5;129;43;01mor\u001b[39;49;00m\u001b[43m \u001b[49m\u001b[38;5;28;43;01mFalse\u001b[39;49;00m\u001b[43m,\u001b[49m\n\u001b[1;32m    923\u001b[0m \u001b[43m        \u001b[49m\u001b[43mstream_cls\u001b[49m\u001b[38;5;241;43m=\u001b[39;49m\u001b[43mStream\u001b[49m\u001b[43m[\u001b[49m\u001b[43mRawMessageStreamEvent\u001b[49m\u001b[43m]\u001b[49m\u001b[43m,\u001b[49m\n\u001b[1;32m    924\u001b[0m \u001b[43m    \u001b[49m\u001b[43m)\u001b[49m\n",
      "File \u001b[0;32m~/ordinaryevidence/animal-welfare-research/animal-welfare-research/env/lib/python3.11/site-packages/anthropic/_base_client.py:1239\u001b[0m, in \u001b[0;36mSyncAPIClient.post\u001b[0;34m(self, path, cast_to, body, options, files, stream, stream_cls)\u001b[0m\n\u001b[1;32m   1236\u001b[0m opts \u001b[38;5;241m=\u001b[39m FinalRequestOptions\u001b[38;5;241m.\u001b[39mconstruct(\n\u001b[1;32m   1237\u001b[0m     method\u001b[38;5;241m=\u001b[39m\u001b[38;5;124m\"\u001b[39m\u001b[38;5;124mpost\u001b[39m\u001b[38;5;124m\"\u001b[39m, url\u001b[38;5;241m=\u001b[39mpath, json_data\u001b[38;5;241m=\u001b[39mbody, files\u001b[38;5;241m=\u001b[39mto_httpx_files(files), \u001b[38;5;241m*\u001b[39m\u001b[38;5;241m*\u001b[39moptions\n\u001b[1;32m   1238\u001b[0m )\n\u001b[0;32m-> 1239\u001b[0m \u001b[38;5;28;01mreturn\u001b[39;00m cast(ResponseT, \u001b[38;5;28;43mself\u001b[39;49m\u001b[38;5;241;43m.\u001b[39;49m\u001b[43mrequest\u001b[49m\u001b[43m(\u001b[49m\u001b[43mcast_to\u001b[49m\u001b[43m,\u001b[49m\u001b[43m \u001b[49m\u001b[43mopts\u001b[49m\u001b[43m,\u001b[49m\u001b[43m \u001b[49m\u001b[43mstream\u001b[49m\u001b[38;5;241;43m=\u001b[39;49m\u001b[43mstream\u001b[49m\u001b[43m,\u001b[49m\u001b[43m \u001b[49m\u001b[43mstream_cls\u001b[49m\u001b[38;5;241;43m=\u001b[39;49m\u001b[43mstream_cls\u001b[49m\u001b[43m)\u001b[49m)\n",
      "File \u001b[0;32m~/ordinaryevidence/animal-welfare-research/animal-welfare-research/env/lib/python3.11/site-packages/anthropic/_base_client.py:921\u001b[0m, in \u001b[0;36mSyncAPIClient.request\u001b[0;34m(self, cast_to, options, remaining_retries, stream, stream_cls)\u001b[0m\n\u001b[1;32m    912\u001b[0m \u001b[38;5;28;01mdef\u001b[39;00m \u001b[38;5;21mrequest\u001b[39m(\n\u001b[1;32m    913\u001b[0m     \u001b[38;5;28mself\u001b[39m,\n\u001b[1;32m    914\u001b[0m     cast_to: Type[ResponseT],\n\u001b[0;32m   (...)\u001b[0m\n\u001b[1;32m    919\u001b[0m     stream_cls: \u001b[38;5;28mtype\u001b[39m[_StreamT] \u001b[38;5;241m|\u001b[39m \u001b[38;5;28;01mNone\u001b[39;00m \u001b[38;5;241m=\u001b[39m \u001b[38;5;28;01mNone\u001b[39;00m,\n\u001b[1;32m    920\u001b[0m ) \u001b[38;5;241m-\u001b[39m\u001b[38;5;241m>\u001b[39m ResponseT \u001b[38;5;241m|\u001b[39m _StreamT:\n\u001b[0;32m--> 921\u001b[0m     \u001b[38;5;28;01mreturn\u001b[39;00m \u001b[38;5;28;43mself\u001b[39;49m\u001b[38;5;241;43m.\u001b[39;49m\u001b[43m_request\u001b[49m\u001b[43m(\u001b[49m\n\u001b[1;32m    922\u001b[0m \u001b[43m        \u001b[49m\u001b[43mcast_to\u001b[49m\u001b[38;5;241;43m=\u001b[39;49m\u001b[43mcast_to\u001b[49m\u001b[43m,\u001b[49m\n\u001b[1;32m    923\u001b[0m \u001b[43m        \u001b[49m\u001b[43moptions\u001b[49m\u001b[38;5;241;43m=\u001b[39;49m\u001b[43moptions\u001b[49m\u001b[43m,\u001b[49m\n\u001b[1;32m    924\u001b[0m \u001b[43m        \u001b[49m\u001b[43mstream\u001b[49m\u001b[38;5;241;43m=\u001b[39;49m\u001b[43mstream\u001b[49m\u001b[43m,\u001b[49m\n\u001b[1;32m    925\u001b[0m \u001b[43m        \u001b[49m\u001b[43mstream_cls\u001b[49m\u001b[38;5;241;43m=\u001b[39;49m\u001b[43mstream_cls\u001b[49m\u001b[43m,\u001b[49m\n\u001b[1;32m    926\u001b[0m \u001b[43m        \u001b[49m\u001b[43mremaining_retries\u001b[49m\u001b[38;5;241;43m=\u001b[39;49m\u001b[43mremaining_retries\u001b[49m\u001b[43m,\u001b[49m\n\u001b[1;32m    927\u001b[0m \u001b[43m    \u001b[49m\u001b[43m)\u001b[49m\n",
      "File \u001b[0;32m~/ordinaryevidence/animal-welfare-research/animal-welfare-research/env/lib/python3.11/site-packages/anthropic/_base_client.py:1004\u001b[0m, in \u001b[0;36mSyncAPIClient._request\u001b[0;34m(self, cast_to, options, remaining_retries, stream, stream_cls)\u001b[0m\n\u001b[1;32m   1003\u001b[0m     err\u001b[38;5;241m.\u001b[39mresponse\u001b[38;5;241m.\u001b[39mclose()\n\u001b[0;32m-> 1004\u001b[0m     \u001b[38;5;28;01mreturn\u001b[39;00m \u001b[38;5;28;43mself\u001b[39;49m\u001b[38;5;241;43m.\u001b[39;49m\u001b[43m_retry_request\u001b[49m\u001b[43m(\u001b[49m\n\u001b[1;32m   1005\u001b[0m \u001b[43m        \u001b[49m\u001b[43moptions\u001b[49m\u001b[43m,\u001b[49m\n\u001b[1;32m   1006\u001b[0m \u001b[43m        \u001b[49m\u001b[43mcast_to\u001b[49m\u001b[43m,\u001b[49m\n\u001b[1;32m   1007\u001b[0m \u001b[43m        \u001b[49m\u001b[43mretries\u001b[49m\u001b[43m,\u001b[49m\n\u001b[1;32m   1008\u001b[0m \u001b[43m        \u001b[49m\u001b[43merr\u001b[49m\u001b[38;5;241;43m.\u001b[39;49m\u001b[43mresponse\u001b[49m\u001b[38;5;241;43m.\u001b[39;49m\u001b[43mheaders\u001b[49m\u001b[43m,\u001b[49m\n\u001b[1;32m   1009\u001b[0m \u001b[43m        \u001b[49m\u001b[43mstream\u001b[49m\u001b[38;5;241;43m=\u001b[39;49m\u001b[43mstream\u001b[49m\u001b[43m,\u001b[49m\n\u001b[1;32m   1010\u001b[0m \u001b[43m        \u001b[49m\u001b[43mstream_cls\u001b[49m\u001b[38;5;241;43m=\u001b[39;49m\u001b[43mstream_cls\u001b[49m\u001b[43m,\u001b[49m\n\u001b[1;32m   1011\u001b[0m \u001b[43m    \u001b[49m\u001b[43m)\u001b[49m\n\u001b[1;32m   1013\u001b[0m \u001b[38;5;66;03m# If the response is streamed then we need to explicitly read the response\u001b[39;00m\n\u001b[1;32m   1014\u001b[0m \u001b[38;5;66;03m# to completion before attempting to access the response text.\u001b[39;00m\n",
      "File \u001b[0;32m~/ordinaryevidence/animal-welfare-research/animal-welfare-research/env/lib/python3.11/site-packages/anthropic/_base_client.py:1050\u001b[0m, in \u001b[0;36mSyncAPIClient._retry_request\u001b[0;34m(self, options, cast_to, remaining_retries, response_headers, stream, stream_cls)\u001b[0m\n\u001b[1;32m   1048\u001b[0m \u001b[38;5;66;03m# In a synchronous context we are blocking the entire thread. Up to the library user to run the client in a\u001b[39;00m\n\u001b[1;32m   1049\u001b[0m \u001b[38;5;66;03m# different thread if necessary.\u001b[39;00m\n\u001b[0;32m-> 1050\u001b[0m \u001b[43mtime\u001b[49m\u001b[38;5;241;43m.\u001b[39;49m\u001b[43msleep\u001b[49m\u001b[43m(\u001b[49m\u001b[43mtimeout\u001b[49m\u001b[43m)\u001b[49m\n\u001b[1;32m   1052\u001b[0m \u001b[38;5;28;01mreturn\u001b[39;00m \u001b[38;5;28mself\u001b[39m\u001b[38;5;241m.\u001b[39m_request(\n\u001b[1;32m   1053\u001b[0m     options\u001b[38;5;241m=\u001b[39moptions,\n\u001b[1;32m   1054\u001b[0m     cast_to\u001b[38;5;241m=\u001b[39mcast_to,\n\u001b[0;32m   (...)\u001b[0m\n\u001b[1;32m   1057\u001b[0m     stream_cls\u001b[38;5;241m=\u001b[39mstream_cls,\n\u001b[1;32m   1058\u001b[0m )\n",
      "\u001b[0;31mKeyboardInterrupt\u001b[0m: ",
      "\nDuring handling of the above exception, another exception occurred:\n",
      "\u001b[0;31mUnboundLocalError\u001b[0m                         Traceback (most recent call last)",
      "Cell \u001b[0;32mIn[5], line 1\u001b[0m\n\u001b[0;32m----> 1\u001b[0m c \u001b[38;5;241m=\u001b[39m \u001b[43mdf\u001b[49m\u001b[38;5;241;43m.\u001b[39;49m\u001b[43mapply\u001b[49m\u001b[43m(\u001b[49m\u001b[38;5;28;43;01mlambda\u001b[39;49;00m\u001b[43m \u001b[49m\u001b[43mx\u001b[49m\u001b[43m:\u001b[49m\u001b[43m \u001b[49m\u001b[43mclassify\u001b[49m\u001b[43m(\u001b[49m\u001b[43mx\u001b[49m\u001b[43m)\u001b[49m\u001b[43m,\u001b[49m\u001b[43m \u001b[49m\u001b[43maxis\u001b[49m\u001b[38;5;241;43m=\u001b[39;49m\u001b[38;5;241;43m1\u001b[39;49m\u001b[43m)\u001b[49m\n",
      "File \u001b[0;32m~/ordinaryevidence/animal-welfare-research/animal-welfare-research/env/lib/python3.11/site-packages/pandas/core/frame.py:10374\u001b[0m, in \u001b[0;36mDataFrame.apply\u001b[0;34m(self, func, axis, raw, result_type, args, by_row, engine, engine_kwargs, **kwargs)\u001b[0m\n\u001b[1;32m  10360\u001b[0m \u001b[38;5;28;01mfrom\u001b[39;00m \u001b[38;5;21;01mpandas\u001b[39;00m\u001b[38;5;21;01m.\u001b[39;00m\u001b[38;5;21;01mcore\u001b[39;00m\u001b[38;5;21;01m.\u001b[39;00m\u001b[38;5;21;01mapply\u001b[39;00m \u001b[38;5;28;01mimport\u001b[39;00m frame_apply\n\u001b[1;32m  10362\u001b[0m op \u001b[38;5;241m=\u001b[39m frame_apply(\n\u001b[1;32m  10363\u001b[0m     \u001b[38;5;28mself\u001b[39m,\n\u001b[1;32m  10364\u001b[0m     func\u001b[38;5;241m=\u001b[39mfunc,\n\u001b[0;32m   (...)\u001b[0m\n\u001b[1;32m  10372\u001b[0m     kwargs\u001b[38;5;241m=\u001b[39mkwargs,\n\u001b[1;32m  10373\u001b[0m )\n\u001b[0;32m> 10374\u001b[0m \u001b[38;5;28;01mreturn\u001b[39;00m \u001b[43mop\u001b[49m\u001b[38;5;241;43m.\u001b[39;49m\u001b[43mapply\u001b[49m\u001b[43m(\u001b[49m\u001b[43m)\u001b[49m\u001b[38;5;241m.\u001b[39m__finalize__(\u001b[38;5;28mself\u001b[39m, method\u001b[38;5;241m=\u001b[39m\u001b[38;5;124m\"\u001b[39m\u001b[38;5;124mapply\u001b[39m\u001b[38;5;124m\"\u001b[39m)\n",
      "File \u001b[0;32m~/ordinaryevidence/animal-welfare-research/animal-welfare-research/env/lib/python3.11/site-packages/pandas/core/apply.py:916\u001b[0m, in \u001b[0;36mFrameApply.apply\u001b[0;34m(self)\u001b[0m\n\u001b[1;32m    913\u001b[0m \u001b[38;5;28;01melif\u001b[39;00m \u001b[38;5;28mself\u001b[39m\u001b[38;5;241m.\u001b[39mraw:\n\u001b[1;32m    914\u001b[0m     \u001b[38;5;28;01mreturn\u001b[39;00m \u001b[38;5;28mself\u001b[39m\u001b[38;5;241m.\u001b[39mapply_raw(engine\u001b[38;5;241m=\u001b[39m\u001b[38;5;28mself\u001b[39m\u001b[38;5;241m.\u001b[39mengine, engine_kwargs\u001b[38;5;241m=\u001b[39m\u001b[38;5;28mself\u001b[39m\u001b[38;5;241m.\u001b[39mengine_kwargs)\n\u001b[0;32m--> 916\u001b[0m \u001b[38;5;28;01mreturn\u001b[39;00m \u001b[38;5;28;43mself\u001b[39;49m\u001b[38;5;241;43m.\u001b[39;49m\u001b[43mapply_standard\u001b[49m\u001b[43m(\u001b[49m\u001b[43m)\u001b[49m\n",
      "File \u001b[0;32m~/ordinaryevidence/animal-welfare-research/animal-welfare-research/env/lib/python3.11/site-packages/pandas/core/apply.py:1063\u001b[0m, in \u001b[0;36mFrameApply.apply_standard\u001b[0;34m(self)\u001b[0m\n\u001b[1;32m   1061\u001b[0m \u001b[38;5;28;01mdef\u001b[39;00m \u001b[38;5;21mapply_standard\u001b[39m(\u001b[38;5;28mself\u001b[39m):\n\u001b[1;32m   1062\u001b[0m     \u001b[38;5;28;01mif\u001b[39;00m \u001b[38;5;28mself\u001b[39m\u001b[38;5;241m.\u001b[39mengine \u001b[38;5;241m==\u001b[39m \u001b[38;5;124m\"\u001b[39m\u001b[38;5;124mpython\u001b[39m\u001b[38;5;124m\"\u001b[39m:\n\u001b[0;32m-> 1063\u001b[0m         results, res_index \u001b[38;5;241m=\u001b[39m \u001b[38;5;28;43mself\u001b[39;49m\u001b[38;5;241;43m.\u001b[39;49m\u001b[43mapply_series_generator\u001b[49m\u001b[43m(\u001b[49m\u001b[43m)\u001b[49m\n\u001b[1;32m   1064\u001b[0m     \u001b[38;5;28;01melse\u001b[39;00m:\n\u001b[1;32m   1065\u001b[0m         results, res_index \u001b[38;5;241m=\u001b[39m \u001b[38;5;28mself\u001b[39m\u001b[38;5;241m.\u001b[39mapply_series_numba()\n",
      "File \u001b[0;32m~/ordinaryevidence/animal-welfare-research/animal-welfare-research/env/lib/python3.11/site-packages/pandas/core/apply.py:1081\u001b[0m, in \u001b[0;36mFrameApply.apply_series_generator\u001b[0;34m(self)\u001b[0m\n\u001b[1;32m   1078\u001b[0m \u001b[38;5;28;01mwith\u001b[39;00m option_context(\u001b[38;5;124m\"\u001b[39m\u001b[38;5;124mmode.chained_assignment\u001b[39m\u001b[38;5;124m\"\u001b[39m, \u001b[38;5;28;01mNone\u001b[39;00m):\n\u001b[1;32m   1079\u001b[0m     \u001b[38;5;28;01mfor\u001b[39;00m i, v \u001b[38;5;129;01min\u001b[39;00m \u001b[38;5;28menumerate\u001b[39m(series_gen):\n\u001b[1;32m   1080\u001b[0m         \u001b[38;5;66;03m# ignore SettingWithCopy here in case the user mutates\u001b[39;00m\n\u001b[0;32m-> 1081\u001b[0m         results[i] \u001b[38;5;241m=\u001b[39m \u001b[38;5;28;43mself\u001b[39;49m\u001b[38;5;241;43m.\u001b[39;49m\u001b[43mfunc\u001b[49m\u001b[43m(\u001b[49m\u001b[43mv\u001b[49m\u001b[43m,\u001b[49m\u001b[43m \u001b[49m\u001b[38;5;241;43m*\u001b[39;49m\u001b[38;5;28;43mself\u001b[39;49m\u001b[38;5;241;43m.\u001b[39;49m\u001b[43margs\u001b[49m\u001b[43m,\u001b[49m\u001b[43m \u001b[49m\u001b[38;5;241;43m*\u001b[39;49m\u001b[38;5;241;43m*\u001b[39;49m\u001b[38;5;28;43mself\u001b[39;49m\u001b[38;5;241;43m.\u001b[39;49m\u001b[43mkwargs\u001b[49m\u001b[43m)\u001b[49m\n\u001b[1;32m   1082\u001b[0m         \u001b[38;5;28;01mif\u001b[39;00m \u001b[38;5;28misinstance\u001b[39m(results[i], ABCSeries):\n\u001b[1;32m   1083\u001b[0m             \u001b[38;5;66;03m# If we have a view on v, we need to make a copy because\u001b[39;00m\n\u001b[1;32m   1084\u001b[0m             \u001b[38;5;66;03m#  series_generator will swap out the underlying data\u001b[39;00m\n\u001b[1;32m   1085\u001b[0m             results[i] \u001b[38;5;241m=\u001b[39m results[i]\u001b[38;5;241m.\u001b[39mcopy(deep\u001b[38;5;241m=\u001b[39m\u001b[38;5;28;01mFalse\u001b[39;00m)\n",
      "Cell \u001b[0;32mIn[5], line 1\u001b[0m, in \u001b[0;36m<lambda>\u001b[0;34m(x)\u001b[0m\n\u001b[0;32m----> 1\u001b[0m c \u001b[38;5;241m=\u001b[39m df\u001b[38;5;241m.\u001b[39mapply(\u001b[38;5;28;01mlambda\u001b[39;00m x: \u001b[43mclassify\u001b[49m\u001b[43m(\u001b[49m\u001b[43mx\u001b[49m\u001b[43m)\u001b[49m, axis\u001b[38;5;241m=\u001b[39m\u001b[38;5;241m1\u001b[39m)\n",
      "Cell \u001b[0;32mIn[4], line 25\u001b[0m, in \u001b[0;36mclassify\u001b[0;34m(row)\u001b[0m\n\u001b[1;32m     23\u001b[0m     \u001b[38;5;28;01mreturn\u001b[39;00m pd\u001b[38;5;241m.\u001b[39mSeries(json\u001b[38;5;241m.\u001b[39mloads(result))\n\u001b[1;32m     24\u001b[0m \u001b[38;5;28;01mexcept\u001b[39;00m:\n\u001b[0;32m---> 25\u001b[0m     \u001b[38;5;28mprint\u001b[39m(row, \u001b[43mresult\u001b[49m)\n\u001b[1;32m     26\u001b[0m     \u001b[38;5;28;01mreturn\u001b[39;00m pd\u001b[38;5;241m.\u001b[39mSeries({\u001b[38;5;124m'\u001b[39m\u001b[38;5;124mAnimal\u001b[39m\u001b[38;5;124m'\u001b[39m: \u001b[38;5;124m'\u001b[39m\u001b[38;5;124mUnknown\u001b[39m\u001b[38;5;124m'\u001b[39m, \u001b[38;5;124m'\u001b[39m\u001b[38;5;124mCountry\u001b[39m\u001b[38;5;124m'\u001b[39m: \u001b[38;5;124m'\u001b[39m\u001b[38;5;124mUnknown\u001b[39m\u001b[38;5;124m'\u001b[39m})\n",
      "\u001b[0;31mUnboundLocalError\u001b[0m: cannot access local variable 'result' where it is not associated with a value"
     ]
    }
   ],
   "source": [
    "c = df.apply(lambda x: classify(x), axis=1)"
   ]
  },
  {
   "cell_type": "code",
   "execution_count": 18,
   "metadata": {},
   "outputs": [],
   "source": [
    "df[c.columns] = c"
   ]
  },
  {
   "cell_type": "code",
   "execution_count": 6,
   "metadata": {},
   "outputs": [
    {
     "data": {
      "text/html": [
       "<div>\n",
       "<style scoped>\n",
       "    .dataframe tbody tr th:only-of-type {\n",
       "        vertical-align: middle;\n",
       "    }\n",
       "\n",
       "    .dataframe tbody tr th {\n",
       "        vertical-align: top;\n",
       "    }\n",
       "\n",
       "    .dataframe thead th {\n",
       "        text-align: right;\n",
       "    }\n",
       "</style>\n",
       "<table border=\"1\" class=\"dataframe\">\n",
       "  <thead>\n",
       "    <tr style=\"text-align: right;\">\n",
       "      <th></th>\n",
       "      <th>Year</th>\n",
       "      <th>Organization</th>\n",
       "      <th>Recipient</th>\n",
       "      <th>Amount</th>\n",
       "      <th>Description</th>\n",
       "    </tr>\n",
       "  </thead>\n",
       "  <tbody>\n",
       "    <tr>\n",
       "      <th>0</th>\n",
       "      <td>2024</td>\n",
       "      <td>Open Philanthropy</td>\n",
       "      <td>Rethink Priorities</td>\n",
       "      <td>3253550.0</td>\n",
       "      <td>Rethink Priorities — Farm Animal Welfare Resea...</td>\n",
       "    </tr>\n",
       "    <tr>\n",
       "      <th>1</th>\n",
       "      <td>2024</td>\n",
       "      <td>Open Philanthropy</td>\n",
       "      <td>Plant Based Foods Association</td>\n",
       "      <td>2500000.0</td>\n",
       "      <td>Plant Based Foods Association — Advocacy and C...</td>\n",
       "    </tr>\n",
       "    <tr>\n",
       "      <th>2</th>\n",
       "      <td>2024</td>\n",
       "      <td>Open Philanthropy</td>\n",
       "      <td>European Institute for Animal Law and Policy</td>\n",
       "      <td>1819991.0</td>\n",
       "      <td>European Institute for Animal Law &amp; Policy — E...</td>\n",
       "    </tr>\n",
       "    <tr>\n",
       "      <th>3</th>\n",
       "      <td>2024</td>\n",
       "      <td>Open Philanthropy</td>\n",
       "      <td>Compassion in World Farming</td>\n",
       "      <td>1504198.0</td>\n",
       "      <td>Compassion in World Farming — Farmed Fish Welf...</td>\n",
       "    </tr>\n",
       "    <tr>\n",
       "      <th>4</th>\n",
       "      <td>2024</td>\n",
       "      <td>Open Philanthropy</td>\n",
       "      <td>Focus Philanthropy</td>\n",
       "      <td>880000.0</td>\n",
       "      <td>Focus Philanthropy — Farm Animal Welfare Fundr...</td>\n",
       "    </tr>\n",
       "    <tr>\n",
       "      <th>...</th>\n",
       "      <td>...</td>\n",
       "      <td>...</td>\n",
       "      <td>...</td>\n",
       "      <td>...</td>\n",
       "      <td>...</td>\n",
       "    </tr>\n",
       "    <tr>\n",
       "      <th>1062</th>\n",
       "      <td>2016</td>\n",
       "      <td>Open Philanthropy</td>\n",
       "      <td>Humane Society of the United States</td>\n",
       "      <td>500000.0</td>\n",
       "      <td>Humane Society of the United States — Corporat...</td>\n",
       "    </tr>\n",
       "    <tr>\n",
       "      <th>1063</th>\n",
       "      <td>2016</td>\n",
       "      <td>Open Philanthropy</td>\n",
       "      <td>The Pollination Project</td>\n",
       "      <td>233000.0</td>\n",
       "      <td>The Pollination Project — Global Animal Advoca...</td>\n",
       "    </tr>\n",
       "    <tr>\n",
       "      <th>1064</th>\n",
       "      <td>2016</td>\n",
       "      <td>Open Philanthropy</td>\n",
       "      <td>Fórum Nacional de Proteção e Defesa Animal</td>\n",
       "      <td>100000.0</td>\n",
       "      <td>Fórum Nacional de Proteção e Defesa Animal — I...</td>\n",
       "    </tr>\n",
       "    <tr>\n",
       "      <th>1065</th>\n",
       "      <td>2016</td>\n",
       "      <td>Open Philanthropy</td>\n",
       "      <td>People for Animals</td>\n",
       "      <td>89392.0</td>\n",
       "      <td>People for Animals — International Cage-Free A...</td>\n",
       "    </tr>\n",
       "    <tr>\n",
       "      <th>1066</th>\n",
       "      <td>2016</td>\n",
       "      <td>Open Philanthropy</td>\n",
       "      <td>Impossible Foods</td>\n",
       "      <td>NaN</td>\n",
       "      <td>Impossible Foods — R&amp;D Investment</td>\n",
       "    </tr>\n",
       "  </tbody>\n",
       "</table>\n",
       "<p>1067 rows × 5 columns</p>\n",
       "</div>"
      ],
      "text/plain": [
       "      Year       Organization                                     Recipient  \\\n",
       "0     2024  Open Philanthropy                            Rethink Priorities   \n",
       "1     2024  Open Philanthropy                 Plant Based Foods Association   \n",
       "2     2024  Open Philanthropy  European Institute for Animal Law and Policy   \n",
       "3     2024  Open Philanthropy                   Compassion in World Farming   \n",
       "4     2024  Open Philanthropy                            Focus Philanthropy   \n",
       "...    ...                ...                                           ...   \n",
       "1062  2016  Open Philanthropy           Humane Society of the United States   \n",
       "1063  2016  Open Philanthropy                       The Pollination Project   \n",
       "1064  2016  Open Philanthropy    Fórum Nacional de Proteção e Defesa Animal   \n",
       "1065  2016  Open Philanthropy                            People for Animals   \n",
       "1066  2016  Open Philanthropy                              Impossible Foods   \n",
       "\n",
       "         Amount                                        Description  \n",
       "0     3253550.0  Rethink Priorities — Farm Animal Welfare Resea...  \n",
       "1     2500000.0  Plant Based Foods Association — Advocacy and C...  \n",
       "2     1819991.0  European Institute for Animal Law & Policy — E...  \n",
       "3     1504198.0  Compassion in World Farming — Farmed Fish Welf...  \n",
       "4      880000.0  Focus Philanthropy — Farm Animal Welfare Fundr...  \n",
       "...         ...                                                ...  \n",
       "1062   500000.0  Humane Society of the United States — Corporat...  \n",
       "1063   233000.0  The Pollination Project — Global Animal Advoca...  \n",
       "1064   100000.0  Fórum Nacional de Proteção e Defesa Animal — I...  \n",
       "1065    89392.0  People for Animals — International Cage-Free A...  \n",
       "1066        NaN                  Impossible Foods — R&D Investment  \n",
       "\n",
       "[1067 rows x 5 columns]"
      ]
     },
     "execution_count": 6,
     "metadata": {},
     "output_type": "execute_result"
    }
   ],
   "source": [
    "df"
   ]
  },
  {
   "cell_type": "code",
   "execution_count": 22,
   "metadata": {},
   "outputs": [
    {
     "name": "stdout",
     "output_type": "stream",
     "text": [
      "Animal                                 Carp       Cattle  Cattle, Chickens, Ducks, Goats, Pigs, Sheep  Cattle, Chickens, Goats, Pigs, Sheep     Chickens  Chickens, Carp, Other Fish    Ducks   Other Fish       Pigs  Pigs, Chickens  Rats/Mice   Salmon     Shrimp       Unknown\n",
      "Country                                                                                                                                                                                                                                                                           \n",
      "Africa                                  0.0         0.00                                          0.0                                   0.0    125510.00                         0.0      0.0     39900.00        0.0             0.0        0.0      0.0        0.0  2.610000e+05\n",
      "Africa, Asia, Latin America             0.0         0.00                                          0.0                                   0.0         0.00                         0.0      0.0         0.00        0.0             0.0        0.0      0.0        0.0  2.600000e+04\n",
      "Argentina                               0.0         0.00                                          0.0                                   0.0         0.00                         0.0      0.0         0.00        0.0             0.0        0.0      0.0        0.0  5.000000e+03\n",
      "Argentina, Brazil, Chile, Colombia      0.0         0.00                                          0.0                                   0.0         0.00                         0.0      0.0         0.00        0.0             0.0        0.0      0.0        0.0  5.000000e+04\n",
      "Asia                                    0.0   2415853.00                                          0.0                                   0.0   4000000.00                         0.0      0.0    109000.00        0.0             0.0        0.0      0.0        0.0  8.650000e+05\n",
      "Australia                               0.0    150000.00                                          0.0                                   0.0     72347.00                         0.0      0.0         0.00        0.0             0.0        0.0      0.0        0.0  4.706590e+05\n",
      "Bangladesh                              0.0     50000.00                                          0.0                                   0.0         0.00                         0.0      0.0         0.00        0.0             0.0        0.0      0.0        0.0  0.000000e+00\n",
      "Benin                                   0.0         0.00                                          0.0                                   0.0         0.00                         0.0      0.0         0.00        0.0             0.0        0.0      0.0        0.0  4.600000e+04\n",
      "Bosnia and Herzegovina                  0.0         0.00                                          0.0                                   0.0         0.00                         0.0      0.0         0.00        0.0             0.0        0.0      0.0        0.0  7.200000e+04\n",
      "Brazil                                  0.0    548068.00                                          0.0                                   0.0     80000.00                         0.0      0.0         0.00    20000.0             0.0        0.0      0.0        0.0  1.633644e+06\n",
      "Bulgaria                                0.0         0.00                                          0.0                                   0.0         0.00                         0.0  84000.0         0.00        0.0             0.0        0.0      0.0        0.0  0.000000e+00\n",
      "Canada                                  0.0    213500.00                                          0.0                                   0.0         0.00                         0.0      0.0         0.00   107074.0             0.0        0.0      0.0        0.0  4.699160e+05\n",
      "Caribbean                               0.0         0.00                                          0.0                                   0.0         0.00                         0.0      0.0         0.00        0.0             0.0        0.0      0.0        0.0  2.500000e+04\n",
      "Chile                                   0.0    250000.00                                          0.0                                   0.0         0.00                         0.0      0.0         0.00        0.0             0.0        0.0      0.0        0.0  0.000000e+00\n",
      "China                                   0.0         0.00                                          0.0                                   0.0     75000.00                         0.0      0.0      4700.00        0.0             0.0        0.0      0.0        0.0  5.263969e+05\n",
      "Czech Republic                          0.0         0.00                                          0.0                                   0.0         0.00                         0.0      0.0         0.00        0.0             0.0        0.0      0.0        0.0  3.500000e+04\n",
      "Czechia                                 0.0         0.00                                          0.0                                   0.0    350000.00                         0.0      0.0         0.00        0.0             0.0        0.0      0.0        0.0  2.500000e+04\n",
      "Denmark                                 0.0         0.00                                          0.0                                   0.0         0.00                         0.0      0.0    283000.00        0.0             0.0        0.0      0.0        0.0  6.741832e+05\n",
      "Developing Countries                    0.0    396515.00                                          0.0                                   0.0         0.00                         0.0      0.0         0.00        0.0             0.0        0.0      0.0        0.0  0.000000e+00\n",
      "East Africa                             0.0         0.00                                          0.0                                   0.0    201000.00                         0.0      0.0         0.00        0.0             0.0        0.0      0.0        0.0  0.000000e+00\n",
      "East Asia                               0.0         0.00                                          0.0                                   0.0         0.00                         0.0      0.0         0.00        0.0             0.0        0.0      0.0        0.0  1.364000e+06\n",
      "Ecuador                                 0.0         0.00                                          0.0                                   0.0         0.00                         0.0      0.0         0.00        0.0             0.0        0.0      0.0        0.0  1.800000e+04\n",
      "Egypt                                   0.0         0.00                                          0.0                                   0.0         0.00                         0.0      0.0     56250.00        0.0             0.0        0.0      0.0        0.0  0.000000e+00\n",
      "Europe                                  0.0   9947289.00                                          0.0                                   0.0    302961.00                         0.0      0.0         0.00        0.0             0.0        0.0      0.0        0.0  6.300000e+04\n",
      "Europe, Americas, India                 0.0         0.00                                          0.0                                   0.0         0.00                         0.0      0.0         0.00        0.0             0.0        0.0      0.0        0.0  3.000000e+04\n",
      "European Union                          0.0    577720.00                                          0.0                                   0.0   1260400.00                         0.0      0.0         0.00        0.0             0.0        0.0      0.0        0.0  3.887454e+06\n",
      "France                                  0.0         0.00                                          0.0                                   0.0   2989788.00                         0.0      0.0         0.00        0.0             0.0        0.0      0.0        0.0  3.022750e+06\n",
      "Germany                                 0.0    397291.00                                          0.0                                   0.0     10000.00                         0.0      0.0         0.00        0.0             0.0        0.0      0.0        0.0  9.800000e+04\n",
      "Hong Kong                           50000.0         0.00                                          0.0                                   0.0         0.00                         0.0      0.0         0.00        0.0             0.0        0.0      0.0        0.0  0.000000e+00\n",
      "India                               50000.0   3633324.00                                          0.0                                   0.0    291100.00                         0.0      0.0    420000.00        0.0             0.0        0.0      0.0   210000.0  1.254199e+06\n",
      "India, Vietnam                          0.0         0.00                                          0.0                                   0.0         0.00                         0.0      0.0         0.00        0.0             0.0        0.0      0.0    45000.0  0.000000e+00\n",
      "Indonesia                               0.0    217000.00                                          0.0                                   0.0     20000.00                         0.0      0.0         0.00    48324.0             0.0        0.0      0.0        0.0  5.000000e+04\n",
      "International                           0.0         0.00                                          0.0                                   0.0         0.00                         0.0      0.0         0.00        0.0             0.0        0.0      0.0        0.0  8.520000e+05\n",
      "Israel                                  0.0         0.00                                          0.0                                   0.0         0.00                         0.0      0.0         0.00        0.0             0.0        0.0      0.0        0.0  2.000000e+04\n",
      "Italy                                   0.0    704000.00                                          0.0                              462974.0         0.00                         0.0      0.0         0.00    75000.0             0.0        0.0      0.0   159000.0  0.000000e+00\n",
      "Jamaica                                 0.0         0.00                                          0.0                                   0.0         0.00                         0.0      0.0         0.00        0.0             0.0        0.0      0.0        0.0  1.000000e+04\n",
      "Japan                                   0.0         0.00                                          0.0                                   0.0    878090.00                         0.0      0.0         0.00        0.0             0.0        0.0      0.0        0.0  3.450000e+05\n",
      "Kenya                                   0.0    187745.00                                          0.0                                   0.0    131000.00                         0.0      0.0         0.00        0.0             0.0        0.0      0.0        0.0  0.000000e+00\n",
      "Latin America                           0.0         0.00                                          0.0                                   0.0     30000.00                         0.0      0.0         0.00        0.0             0.0        0.0      0.0        0.0  1.620000e+05\n",
      "Latin America and Asia                  0.0         0.00                                          0.0                                   0.0         0.00                         0.0      0.0         0.00        0.0             0.0        0.0      0.0        0.0  1.570000e+05\n",
      "Latvia                                  0.0         0.00                                          0.0                                   0.0         0.00                         0.0      0.0         0.00        0.0             0.0        0.0      0.0        0.0  1.124500e+04\n",
      "Lithuania                               0.0         0.00                                          0.0                                   0.0         0.00                         0.0      0.0         0.00        0.0             0.0        0.0      0.0        0.0  2.500000e+04\n",
      "Malaysia                                0.0    134000.00                                          0.0                                   0.0     99000.00                         0.0      0.0         0.00        0.0             0.0        0.0      0.0        0.0  7.500000e+04\n",
      "Mali                                    0.0         0.00                                          0.0                                   0.0         0.00                         0.0      0.0         0.00        0.0             0.0        0.0      0.0        0.0  1.200000e+04\n",
      "Mexico                                  0.0         0.00                                          0.0                                   0.0         0.00                         0.0      0.0     39000.00        0.0             0.0        0.0      0.0        0.0  1.550000e+05\n",
      "Middle East                             0.0         0.00                                          0.0                                   0.0         0.00                         0.0      0.0         0.00        0.0             0.0        0.0      0.0        0.0  4.000000e+04\n",
      "Nepal                                   0.0    495700.00                                          0.0                                   0.0         0.00                         0.0      0.0         0.00        0.0             0.0        0.0      0.0        0.0  2.000000e+04\n",
      "Netherlands                             0.0         0.00                                          0.0                                   0.0     88345.00                         0.0      0.0    831750.00        0.0             0.0        0.0      0.0        0.0  0.000000e+00\n",
      "New Zealand                             0.0         0.00                                          0.0                                   0.0    392188.11                         0.0      0.0         0.00        0.0             0.0        0.0      0.0        0.0  0.000000e+00\n",
      "Nigeria                                 0.0         0.00                                          0.0                                   0.0     30000.00                         0.0      0.0     40000.00        0.0             0.0        0.0      0.0        0.0  7.000000e+03\n",
      "Norway                                  0.0         0.00                                          0.0                                   0.0         0.00                         0.0      0.0   1246893.00        0.0             0.0        0.0      0.0        0.0  1.650000e+04\n",
      "Palestine                               0.0         0.00                                          0.0                                   0.0         0.00                         0.0      0.0         0.00        0.0             0.0        0.0      0.0        0.0  3.500000e+04\n",
      "Peru                                    0.0    178400.00                                          0.0                                   0.0    336000.00                         0.0      0.0         0.00        0.0             0.0        0.0      0.0        0.0  2.000000e+04\n",
      "Philippines                             0.0    433800.00                                          0.0                                   0.0    365700.00                         0.0      0.0         0.00        0.0         40000.0        0.0      0.0        0.0  3.433000e+05\n",
      "Poland                                  0.0         0.00                                          0.0                                   0.0         0.00                         0.0      0.0         0.00        0.0             0.0        0.0      0.0        0.0  5.035000e+04\n",
      "Portugal                                0.0         0.00                                          0.0                                   0.0         0.00                         0.0      0.0         0.00        0.0             0.0        0.0      0.0        0.0  3.200000e+04\n",
      "Romania                                 0.0         0.00                                          0.0                                   0.0    193000.00                         0.0      0.0         0.00        0.0             0.0        0.0      0.0        0.0  1.000000e+04\n",
      "Russia                                  0.0    118930.00                                          0.0                                   0.0         0.00                         0.0      0.0         0.00        0.0             0.0        0.0      0.0        0.0  0.000000e+00\n",
      "Scotland                                0.0         0.00                                          0.0                                   0.0         0.00                         0.0      0.0         0.00        0.0             0.0        0.0      0.0        0.0  1.000000e+04\n",
      "Singapore                               0.0    225000.00                                          0.0                                   0.0         0.00                         0.0      0.0         0.00        0.0             0.0        0.0      0.0        0.0  1.000000e+05\n",
      "Slovakia                            75000.0    357628.00                                          0.0                                   0.0     49000.00                         0.0      0.0         0.00        0.0             0.0        0.0      0.0        0.0  4.300000e+04\n",
      "South Africa                            0.0         0.00                                          0.0                                   0.0         0.00                         0.0      0.0         0.00        0.0             0.0        0.0      0.0        0.0  7.500000e+04\n",
      "South Korea                             0.0     20000.00                                          0.0                                   0.0     57000.00                         0.0      0.0         0.00        0.0             0.0        0.0      0.0        0.0  1.600000e+05\n",
      "Southeast Asia                          0.0   3429300.00                                          0.0                                   0.0         0.00                         0.0      0.0         0.00        0.0             0.0        0.0      0.0        0.0  9.941000e+05\n",
      "Southeast Asia and Latin America        0.0   3132743.00                                          0.0                                   0.0         0.00                         0.0      0.0         0.00        0.0             0.0        0.0      0.0        0.0  0.000000e+00\n",
      "Spain                                   0.0         0.00                                          0.0                                   0.0         0.00                         0.0      0.0         0.00        0.0             0.0        0.0      0.0        0.0  2.050000e+04\n",
      "Sri Lanka                               0.0         0.00                                          0.0                                   0.0         0.00                         0.0      0.0         0.00        0.0             0.0        0.0      0.0        0.0  1.510000e+05\n",
      "Sub-Saharan Africa                      0.0         0.00                                          0.0                                   0.0         0.00                         0.0      0.0         0.00        0.0             0.0        0.0      0.0        0.0  1.000000e+04\n",
      "Sweden                                  0.0    120000.00                                          0.0                                   0.0         0.00                         0.0      0.0    437700.00        0.0             0.0        0.0      0.0        0.0  0.000000e+00\n",
      "Switzerland                             0.0    125000.00                                     100000.0                                   0.0   3260000.00                         0.0      0.0         0.00        0.0             0.0        0.0      0.0        0.0  0.000000e+00\n",
      "Taiwan                                  0.0   1866000.00                                          0.0                                   0.0     15000.00                         0.0      0.0         0.00        0.0             0.0        0.0      0.0        0.0  5.000000e+04\n",
      "Tanzania                            94000.0         0.00                                          0.0                                   0.0     40000.00                         0.0      0.0         0.00        0.0             0.0        0.0      0.0    81659.0  2.050000e+04\n",
      "Thailand                                0.0   1146986.00                                          0.0                                   0.0         0.00                         0.0      0.0         0.00        0.0             0.0        0.0      0.0        0.0  5.000000e+03\n",
      "Turkey                                  0.0    748972.15                                          0.0                                   0.0     45000.00                    175000.0      0.0         0.00        0.0             0.0        0.0      0.0        0.0  8.500000e+03\n",
      "Uganda                                  0.0     75000.00                                          0.0                                   0.0     20000.00                         0.0      0.0         0.00        0.0             0.0        0.0      0.0        0.0  1.000000e+04\n",
      "Ukraine                                 0.0         0.00                                          0.0                                   0.0     24000.00                         0.0      0.0         0.00        0.0             0.0        0.0      0.0        0.0  3.000000e+04\n",
      "United Kingdom                          0.0     74500.00                                          0.0                                   0.0   1116545.00                         0.0      0.0    995610.00        0.0             0.0        0.0  45000.0        0.0  2.666872e+06\n",
      "United States                           0.0   1926201.00                                          0.0                                   0.0   3214000.00                         0.0      0.0    400508.00  4569793.0             0.0        0.0  97457.0        0.0  1.197610e+07\n",
      "Unknown                                 0.0  22614532.00                                          0.0                                   0.0  47244373.00                         0.0      0.0  32111329.15   642390.0             0.0     7500.0  60000.0  4481307.0  1.612667e+08\n"
     ]
    }
   ],
   "source": [
    "pt = df.pivot_table(index='Country', columns='Animal', values='Amount', aggfunc='sum', fill_value=0)\n",
    "print(pt.to_string())"
   ]
  },
  {
   "cell_type": "code",
   "execution_count": 27,
   "metadata": {},
   "outputs": [
    {
     "name": "stdout",
     "output_type": "stream",
     "text": [
      "Animal\n",
      "Carp                                             269000.000\n",
      "Cattle                                         56910997.150\n",
      "Cattle, Chickens, Ducks, Goats, Pigs, Sheep      100000.000\n",
      "Cattle, Chickens, Goats, Pigs, Sheep             462974.000\n",
      "Chickens                                       67406347.110\n",
      "Chickens, Carp, Other Fish                       175000.000\n",
      "Ducks                                             84000.000\n",
      "Other Fish                                     37015640.150\n",
      "Pigs                                            5462581.000\n",
      "Pigs, Chickens                                    40000.000\n",
      "Rats/Mice                                          7500.000\n",
      "Salmon                                           202457.000\n",
      "Shrimp                                          4976966.000\n",
      "Unknown                                       194967893.340\n",
      "dtype: float64\n"
     ]
    }
   ],
   "source": [
    "s = pt.sum()\n",
    "print(s)"
   ]
  },
  {
   "cell_type": "code",
   "execution_count": 33,
   "metadata": {},
   "outputs": [
    {
     "data": {
      "text/plain": [
       "-0.00965018781218219"
      ]
     },
     "execution_count": 33,
     "metadata": {},
     "output_type": "execute_result"
    }
   ],
   "source": [
    "(s['Carp'] + s['Other Fish'] + s['Salmon'])/(-1951699833.697 + -1897440352.025 +  -35457490.468)"
   ]
  },
  {
   "cell_type": "code",
   "execution_count": 34,
   "metadata": {},
   "outputs": [
    {
     "data": {
      "text/plain": [
       "-0.01601569060053059"
      ]
     },
     "execution_count": 34,
     "metadata": {},
     "output_type": "execute_result"
    }
   ],
   "source": [
    "s['Chickens']/-4208769312.000"
   ]
  },
  {
   "cell_type": "code",
   "execution_count": 36,
   "metadata": {},
   "outputs": [
    {
     "data": {
      "text/plain": [
       "-0.0024653267515938136"
      ]
     },
     "execution_count": 36,
     "metadata": {},
     "output_type": "execute_result"
    }
   ],
   "source": [
    "s['Shrimp']/-2018785541.017"
   ]
  },
  {
   "cell_type": "code",
   "execution_count": 35,
   "metadata": {},
   "outputs": [
    {
     "data": {
      "text/plain": [
       "-0.026945930742348082"
      ]
     },
     "execution_count": 35,
     "metadata": {},
     "output_type": "execute_result"
    }
   ],
   "source": [
    "s['Pigs']/-202723782.386"
   ]
  },
  {
   "cell_type": "code",
   "execution_count": 37,
   "metadata": {},
   "outputs": [
    {
     "data": {
      "text/plain": [
       "-0.36366143597798717"
      ]
     },
     "execution_count": 37,
     "metadata": {},
     "output_type": "execute_result"
    }
   ],
   "source": [
    "s['Cattle']/-156494452.036"
   ]
  },
  {
   "cell_type": "code",
   "execution_count": null,
   "metadata": {},
   "outputs": [],
   "source": []
  }
 ],
 "metadata": {
  "kernelspec": {
   "display_name": "env",
   "language": "python",
   "name": "python3"
  },
  "language_info": {
   "codemirror_mode": {
    "name": "ipython",
    "version": 3
   },
   "file_extension": ".py",
   "mimetype": "text/x-python",
   "name": "python",
   "nbconvert_exporter": "python",
   "pygments_lexer": "ipython3",
   "version": "3.11.2"
  }
 },
 "nbformat": 4,
 "nbformat_minor": 2
}
